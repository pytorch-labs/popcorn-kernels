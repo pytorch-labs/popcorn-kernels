{
 "cells": [
  {
   "cell_type": "markdown",
   "metadata": {},
   "source": [
    "# Generated Dataset Inspector\n",
    "\n",
    "This notebook allows you to inspect the first few entries of the dataset which is stored as a Parquet file.\n"
   ]
  },
  {
   "cell_type": "code",
   "execution_count": 20,
   "metadata": {},
   "outputs": [],
   "source": [
    "import pandas as pd\n",
    "import os\n",
    "import sys"
   ]
  },
  {
   "cell_type": "code",
   "execution_count": 14,
   "metadata": {},
   "outputs": [],
   "source": [
    "def inspect_parquet(file_path, num_rows=5):\n",
    "\t\"\"\"\n",
    "\tRead and display the first few entries of a Parquet file.\n",
    "\n",
    "\tArgs:\n",
    "\t    file_path (str): Path to the Parquet file\n",
    "\t    num_rows (int): Number of rows to display\n",
    "\t\"\"\"\n",
    "\ttry:\n",
    "\t\t# Read the Parquet file\n",
    "\t\tdf = pd.read_parquet(file_path)\n",
    "\n",
    "\t\t# Print basic information\n",
    "\t\tprint(f'Dataset shape: {df.shape}')\n",
    "\t\tprint(f'Columns: {df.columns.tolist()}')\n",
    "\t\tprint(f'\\nFirst {num_rows} rows:')\n",
    "\t\tprint(df.head(num_rows))\n",
    "\n",
    "\t\t# Print data types\n",
    "\t\tprint('\\nData types:')\n",
    "\t\tprint(df.dtypes)\n",
    "\n",
    "\t\treturn df\n",
    "\n",
    "\texcept Exception as e:\n",
    "\t\tprint(f'Error reading Parquet file: {e}')"
   ]
  },
  {
   "cell_type": "markdown",
   "metadata": {},
   "source": []
  },
  {
   "cell_type": "code",
   "execution_count": 15,
   "metadata": {},
   "outputs": [],
   "source": [
    "run_dir_path = '/matx/u/simonguo/triton_scrape_stack'\n",
    "dataset_path = 'datasets/dataset.parquet'\n",
    "full_dataset_path = os.path.join(run_dir_path, dataset_path)\n",
    "\n",
    "assert os.path.exists(full_dataset_path), f'Dataset file does not exist: {full_dataset_path}'"
   ]
  },
  {
   "cell_type": "code",
   "execution_count": 16,
   "metadata": {},
   "outputs": [],
   "source": [
    "num_rows = 5"
   ]
  },
  {
   "cell_type": "code",
   "execution_count": 17,
   "metadata": {},
   "outputs": [
    {
     "name": "stdout",
     "output_type": "stream",
     "text": [
      "Dataset shape: (4, 5)\n",
      "Columns: ['entry_point', 'original_triton_code', 'python_code', 'triton_code', 'uuid']\n",
      "\n",
      "First 5 rows:\n",
      "               entry_point                               original_triton_code  \\\n",
      "0                Cartesian  # AOT ID: ['2_inference']\\nfrom ctypes import ...   \n",
      "1            CombineSlices  # AOT ID: ['3_inference']\\nfrom ctypes import ...   \n",
      "2  GlobalWeightedAvgPool2d  # AOT ID: ['3_forward']\\nfrom ctypes import c_...   \n",
      "3                    Model  # AOT ID: ['1_forward']\\nfrom ctypes import c_...   \n",
      "\n",
      "                                         python_code  \\\n",
      "0  import torch\\nfrom torch import nn\\nimport tor...   \n",
      "1  import torch\\nfrom torch import nn\\nimport tor...   \n",
      "2  import torch\\nfrom torch import nn\\n\\n\\nclass ...   \n",
      "3  from torch.nn import Module\\nimport torch\\nimp...   \n",
      "\n",
      "                                         triton_code  uuid  \n",
      "0  import torch\\nimport triton\\nimport triton.lan...     0  \n",
      "1  import torch\\nimport triton\\nimport triton.lan...     1  \n",
      "2  import torch\\nfrom torch._inductor.select_algo...     2  \n",
      "3  import torch\\nimport triton\\nimport triton.lan...     3  \n",
      "\n",
      "Data types:\n",
      "entry_point             object\n",
      "original_triton_code    object\n",
      "python_code             object\n",
      "triton_code             object\n",
      "uuid                     int64\n",
      "dtype: object\n"
     ]
    }
   ],
   "source": [
    "df = inspect_parquet(full_dataset_path, num_rows)"
   ]
  },
  {
   "cell_type": "code",
   "execution_count": 18,
   "metadata": {},
   "outputs": [
    {
     "data": {
      "text/html": [
       "<div>\n",
       "<style scoped>\n",
       "    .dataframe tbody tr th:only-of-type {\n",
       "        vertical-align: middle;\n",
       "    }\n",
       "\n",
       "    .dataframe tbody tr th {\n",
       "        vertical-align: top;\n",
       "    }\n",
       "\n",
       "    .dataframe thead th {\n",
       "        text-align: right;\n",
       "    }\n",
       "</style>\n",
       "<table border=\"1\" class=\"dataframe\">\n",
       "  <thead>\n",
       "    <tr style=\"text-align: right;\">\n",
       "      <th></th>\n",
       "      <th>entry_point</th>\n",
       "      <th>original_triton_code</th>\n",
       "      <th>python_code</th>\n",
       "      <th>triton_code</th>\n",
       "      <th>uuid</th>\n",
       "    </tr>\n",
       "  </thead>\n",
       "  <tbody>\n",
       "    <tr>\n",
       "      <th>0</th>\n",
       "      <td>Cartesian</td>\n",
       "      <td># AOT ID: ['2_inference']\\nfrom ctypes import ...</td>\n",
       "      <td>import torch\\nfrom torch import nn\\nimport tor...</td>\n",
       "      <td>import torch\\nimport triton\\nimport triton.lan...</td>\n",
       "      <td>0</td>\n",
       "    </tr>\n",
       "    <tr>\n",
       "      <th>1</th>\n",
       "      <td>CombineSlices</td>\n",
       "      <td># AOT ID: ['3_inference']\\nfrom ctypes import ...</td>\n",
       "      <td>import torch\\nfrom torch import nn\\nimport tor...</td>\n",
       "      <td>import torch\\nimport triton\\nimport triton.lan...</td>\n",
       "      <td>1</td>\n",
       "    </tr>\n",
       "    <tr>\n",
       "      <th>2</th>\n",
       "      <td>GlobalWeightedAvgPool2d</td>\n",
       "      <td># AOT ID: ['3_forward']\\nfrom ctypes import c_...</td>\n",
       "      <td>import torch\\nfrom torch import nn\\n\\n\\nclass ...</td>\n",
       "      <td>import torch\\nfrom torch._inductor.select_algo...</td>\n",
       "      <td>2</td>\n",
       "    </tr>\n",
       "    <tr>\n",
       "      <th>3</th>\n",
       "      <td>Model</td>\n",
       "      <td># AOT ID: ['1_forward']\\nfrom ctypes import c_...</td>\n",
       "      <td>from torch.nn import Module\\nimport torch\\nimp...</td>\n",
       "      <td>import torch\\nimport triton\\nimport triton.lan...</td>\n",
       "      <td>3</td>\n",
       "    </tr>\n",
       "  </tbody>\n",
       "</table>\n",
       "</div>"
      ],
      "text/plain": [
       "               entry_point                               original_triton_code  \\\n",
       "0                Cartesian  # AOT ID: ['2_inference']\\nfrom ctypes import ...   \n",
       "1            CombineSlices  # AOT ID: ['3_inference']\\nfrom ctypes import ...   \n",
       "2  GlobalWeightedAvgPool2d  # AOT ID: ['3_forward']\\nfrom ctypes import c_...   \n",
       "3                    Model  # AOT ID: ['1_forward']\\nfrom ctypes import c_...   \n",
       "\n",
       "                                         python_code  \\\n",
       "0  import torch\\nfrom torch import nn\\nimport tor...   \n",
       "1  import torch\\nfrom torch import nn\\nimport tor...   \n",
       "2  import torch\\nfrom torch import nn\\n\\n\\nclass ...   \n",
       "3  from torch.nn import Module\\nimport torch\\nimp...   \n",
       "\n",
       "                                         triton_code  uuid  \n",
       "0  import torch\\nimport triton\\nimport triton.lan...     0  \n",
       "1  import torch\\nimport triton\\nimport triton.lan...     1  \n",
       "2  import torch\\nfrom torch._inductor.select_algo...     2  \n",
       "3  import torch\\nimport triton\\nimport triton.lan...     3  "
      ]
     },
     "execution_count": 18,
     "metadata": {},
     "output_type": "execute_result"
    }
   ],
   "source": [
    "df"
   ]
  },
  {
   "cell_type": "markdown",
   "metadata": {},
   "source": [
    "## Verify pairs of program actually work"
   ]
  },
  {
   "cell_type": "code",
   "execution_count": 33,
   "metadata": {},
   "outputs": [],
   "source": [
    "num_samples = 2"
   ]
  },
  {
   "cell_type": "code",
   "execution_count": 34,
   "metadata": {},
   "outputs": [
    {
     "name": "stdout",
     "output_type": "stream",
     "text": [
      "Sampled indices: [1, 3]\n"
     ]
    }
   ],
   "source": [
    "sys.path.append(run_dir_path)  # Add the run directory to path\n",
    "from run_and_check import evaluate_ref_and_kernel_correctness\n",
    "\n",
    "\n",
    "sampled_indices = df.sample(n=num_samples, random_state=42).index.tolist()\n",
    "print(f'Sampled indices: {sampled_indices}')"
   ]
  },
  {
   "cell_type": "code",
   "execution_count": 38,
   "metadata": {},
   "outputs": [
    {
     "name": "stdout",
     "output_type": "stream",
     "text": [
      "\n",
      "Evaluating entry 1: CombineSlices\n",
      "Elavating Sample 1 which is CombineSlices\n",
      "\n",
      "Evaluating entry 3: Model\n",
      "Elavating Sample 3 which is Model\n"
     ]
    }
   ],
   "source": [
    "results = []\n",
    "for idx in sampled_indices:\n",
    "\tentry = df.iloc[idx]\n",
    "\tprint(f'\\nEvaluating entry {idx}: {entry[\"entry_point\"]}')\n",
    "\n",
    "\t# Extract the code columns - assuming these are the relevant columns\n",
    "\t# Adjust column names if needed based on your actual dataframe\n",
    "\tref_code = entry.get('reference_code', entry.get('python_code'))\n",
    "\tkernel_code = entry.get('generated_code', entry.get('triton_code'))\n",
    "\tentry_point = entry['entry_point']\n",
    "\n",
    "\tprint(f'Elavating Sample {idx} which is {entry_point} for Correctness')\n",
    "\t# print(ref_code)\n",
    "\t# print(kernel_code)\n",
    "\t# print(entry_point)\n",
    "\n",
    "\ttry:\n",
    "\t\t# Evaluate correctness\n",
    "\t\tresult = evaluate_ref_and_kernel_correctness(\n",
    "\t\t\tref_arch_src=ref_code,\n",
    "\t\t\tkernel_src=kernel_code,\n",
    "\t\t\tentry_point=entry_point,\n",
    "\t\t\tnum_trials=3,  # You can adjust this as needed\n",
    "\t\t)\n",
    "\t\tresults.append({\n",
    "\t\t\t'index': idx,\n",
    "\t\t\t'entry_point': entry_point,\n",
    "\t\t\t'result': result,\n",
    "\t\t\t'success': True,\n",
    "\t\t})\n",
    "\texcept Exception as e:\n",
    "\t\tprint(f'Error during evaluation: {e}')\n",
    "\t\tresults.append({\n",
    "\t\t\t'index': idx,\n",
    "\t\t\t'entry_point': entry_point,\n",
    "\t\t\t'error': str(e),\n",
    "\t\t\t'success': False,\n",
    "\t\t})"
   ]
  },
  {
   "cell_type": "code",
   "execution_count": 40,
   "metadata": {},
   "outputs": [
    {
     "name": "stdout",
     "output_type": "stream",
     "text": [
      "\n",
      "Evaluation Results Summary:\n",
      "   index    entry_point  result  success\n",
      "0      1  CombineSlices    True     True\n",
      "1      3          Model    True     True\n",
      "\n",
      "Success Rate: 100.00%\n"
     ]
    }
   ],
   "source": [
    "results_df = pd.DataFrame(results)\n",
    "print('\\nEvaluation Results Summary:')\n",
    "print(results_df)\n",
    "success_percentage = (results_df['success'].sum() / len(results_df)) * 100\n",
    "print(f'\\nSuccess Rate: {success_percentage:.2f}%')"
   ]
  },
  {
   "cell_type": "code",
   "execution_count": null,
   "metadata": {},
   "outputs": [],
   "source": []
  }
 ],
 "metadata": {
  "kernelspec": {
   "display_name": "triton_scrape",
   "language": "python",
   "name": "python3"
  },
  "language_info": {
   "codemirror_mode": {
    "name": "ipython",
    "version": 3
   },
   "file_extension": ".py",
   "mimetype": "text/x-python",
   "name": "python",
   "nbconvert_exporter": "python",
   "pygments_lexer": "ipython3",
   "version": "3.10.16"
  }
 },
 "nbformat": 4,
 "nbformat_minor": 2
}
