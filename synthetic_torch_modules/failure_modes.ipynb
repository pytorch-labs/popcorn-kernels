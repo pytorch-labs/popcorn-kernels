{
 "cells": [
  {
   "cell_type": "code",
   "execution_count": null,
   "metadata": {},
   "outputs": [],
   "source": [
    "import matplotlib.pyplot as plt\n",
    "import pandas as pd\n",
    "import re\n",
    "\n",
    "# Read the log file\n",
    "with open('failed_operators.log', 'r') as file:\n",
    "\tlines = file.readlines()\n",
    "\n",
    "# Extract all operators and count them\n",
    "all_operators = []\n",
    "for line in lines:\n",
    "\t# Split by commas and strip whitespace\n",
    "\toperators = [op.strip() for op in line.split(',')]\n",
    "\t# Remove duplicates within the same line\n",
    "\tunique_operators = list(dict.fromkeys(operators))\n",
    "\tall_operators.extend(unique_operators)\n",
    "\n",
    "# Count occurrences of each operator\n",
    "operator_counts = pd.Series(all_operators).value_counts()\n",
    "\n",
    "# Sort by count in descending order\n",
    "operator_counts = operator_counts.sort_values(ascending=False)\n",
    "\n",
    "# Create a horizontal bar chart\n",
    "plt.figure(figsize=(12, 14))\n",
    "operator_counts.plot(kind='barh')\n",
    "plt.title('Frequency of Failed Operators')\n",
    "plt.xlabel('Count')\n",
    "plt.ylabel('Operator')\n",
    "plt.tight_layout()\n",
    "plt.grid(axis='x', linestyle='--', alpha=0.7)\n",
    "\n",
    "# Display the plot\n",
    "plt.show()\n",
    "\n",
    "# Print the counts as a table\n",
    "print('Operator Counts:')\n",
    "print(operator_counts.to_string())"
   ]
  },
  {
   "cell_type": "code",
   "execution_count": null,
   "metadata": {},
   "outputs": [],
   "source": []
  }
 ],
 "metadata": {
  "kernelspec": {
   "display_name": "triton_synth",
   "language": "python",
   "name": "python3"
  },
  "language_info": {
   "name": "python",
   "version": "3.10.16"
  }
 },
 "nbformat": 4,
 "nbformat_minor": 2
}
